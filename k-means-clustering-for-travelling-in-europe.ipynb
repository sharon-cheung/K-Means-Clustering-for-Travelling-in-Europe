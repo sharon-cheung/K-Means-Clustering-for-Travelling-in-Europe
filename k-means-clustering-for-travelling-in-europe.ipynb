{
 "cells": [
  {
   "cell_type": "markdown",
   "metadata": {},
   "source": [
    "As a person interested in travelling in Europe, I want to know which countries may have similar characteristics for my own safety. For example, I would be more cautious when travelling to countries that are grouped together because they have a higher crime rate and their citizens have a low confidence rating in the legal system. Hence, I would like to group similar countries together via k-means clustering.\n",
    "\n",
    "Note that according to the UN, there are 44 countries in Europe. \n",
    "Source: https://www.worldometers.info/geography/how-many-countries-in-europe/\n",
    "However, this dataset contains 32 countries, so 12 European countries will be excluded from any generalizations made from the data.\n",
    "\n",
    "This notebook will be structured as follows:\n",
    "1. Importing Libraries and Data Preparation\n",
    "2. Determining Optimal Number of Clusters\n",
    "3. Implementing K-Means Clustering\n",
    "4. Summarizing Results\n",
    "5. Examining Relevance of Results"
   ]
  },
  {
   "cell_type": "markdown",
   "metadata": {},
   "source": [
    "We begin by importing the required libraries."
   ]
  },
  {
   "cell_type": "code",
   "execution_count": 1,
   "metadata": {},
   "outputs": [],
   "source": [
    "import pandas as pd\n",
    "import numpy as np\n",
    "import matplotlib.pyplot as plt\n",
    "from functools import reduce\n",
    "from sklearn.cluster import KMeans\n",
    "from sklearn.metrics import silhouette_samples, silhouette_score"
   ]
  },
  {
   "cell_type": "markdown",
   "metadata": {},
   "source": [
    "Below I will import the datasets with metrics that I personally consider to be important when it comes to travelling. This includes crime, pollution, trust in the legal/police/political system, GDP, perceived health, and population."
   ]
  },
  {
   "cell_type": "code",
   "execution_count": 2,
   "metadata": {},
   "outputs": [],
   "source": [
    "df1=pd.read_csv(\"../input/europe-datasets/crime_2016.csv\")\n",
    "df2=pd.read_csv(\"../input/europe-datasets/pollution_2016.csv\")\n",
    "df3=pd.read_csv(\"../input/europe-datasets/trust_in_legal_2013.csv\")\n",
    "df4=pd.read_csv(\"../input/europe-datasets/trust_in_police_2013.csv\")\n",
    "df5=pd.read_csv(\"../input/europe-datasets/trust_in_politics_2013.csv\")\n",
    "df6=pd.read_csv(\"../input/europe-datasets/gdp_2016.csv\")\n",
    "df7=pd.read_csv(\"../input/europe-datasets/perceived_health_2016.csv\")\n",
    "df8=pd.read_csv(\"../input/europe-datasets/population_2011.csv\")"
   ]
  },
  {
   "cell_type": "markdown",
   "metadata": {},
   "source": [
    "Combine the data and prep the data for clustering."
   ]
  },
  {
   "cell_type": "code",
   "execution_count": 3,
   "metadata": {},
   "outputs": [],
   "source": [
    "# consolidate data with the country as the unique identifier\n",
    "data=reduce(lambda x,y: pd.merge(x,y, on='country', how='inner'), \n",
    "            [df1, df2, df3, df4, df5, df6, df7, df8])\n",
    "\n",
    "# matrix without the unique identifier for fitting later\n",
    "x=data\n",
    "x=x.drop('country',1)"
   ]
  },
  {
   "cell_type": "markdown",
   "metadata": {},
   "source": [
    "Next, let's decide the number of clusters to be used. Since there are 32 countries we know that the number of clusters should be smaller. We will use 2 methods: the Elbow Method and Average Silhouette Method."
   ]
  },
  {
   "cell_type": "code",
   "execution_count": 4,
   "metadata": {},
   "outputs": [
    {
     "data": {
      "image/png": "[encoded data removed]",
      "text/plain": [
       "<Figure size 432x288 with 1 Axes>"
      ]
     },
     "metadata": {
      "needs_background": "light"
     },
     "output_type": "display_data"
    }
   ],
   "source": [
    "# Elbow Method\n",
    "sum_of_sq_dist=[] # initialize\n",
    "K=range(1,10) # check up to 10 clusters\n",
    "for k in K:\n",
    "    km=KMeans(n_clusters=k)\n",
    "    km=km.fit(x)\n",
    "    sum_of_sq_dist.append(km.inertia_)\n",
    "\n",
    "# plot the result\n",
    "plt.plot(K,sum_of_sq_dist,'bx-')\n",
    "plt.xlabel('k clusters')\n",
    "plt.ylabel('Sum of Squared Distances')\n",
    "plt.title('Elbow Method for Best k')\n",
    "plt.show()"
   ]
  },
  {
   "cell_type": "markdown",
   "metadata": {},
   "source": [
    "The best pick should be where the \"Elbow\" is in the graph. Looks like 2 clusters might be a good choice. Let's look at the average silhouette method. We want the number of clusters corresponding to the highest silhouette score."
   ]
  },
  {
   "cell_type": "code",
   "execution_count": 5,
   "metadata": {},
   "outputs": [
    {
     "name": "stdout",
     "output_type": "stream",
     "text": [
      "When we use 2 clusters, the average silhouette score is 0.838\n",
      "When we use 3 clusters, the average silhouette score is 0.786\n",
      "When we use 4 clusters, the average silhouette score is 0.59\n",
      "When we use 5 clusters, the average silhouette score is 0.587\n",
      "When we use 6 clusters, the average silhouette score is 0.621\n",
      "When we use 7 clusters, the average silhouette score is 0.629\n",
      "When we use 8 clusters, the average silhouette score is 0.598\n",
      "When we use 9 clusters, the average silhouette score is 0.609\n",
      "When we use 10 clusters, the average silhouette score is 0.577\n"
     ]
    }
   ],
   "source": [
    "# Print results from Avg Silhouette Method\n",
    "for n_clusters in range(2,11): # check up to 10 clusters\n",
    "    clusterer=KMeans(n_clusters=n_clusters,random_state=10) # seed 10\n",
    "    cluster_labels=clusterer.fit_predict(x)\n",
    "    silhouette_avg=silhouette_score(x,cluster_labels)\n",
    "    print(\"When we use\",n_clusters,\"clusters,\",\n",
    "          \"the average silhouette score is\",\n",
    "          round(silhouette_avg,3)) # round to 3 decimals for readable comparison\n",
    "    sample_silhouette_values=silhouette_samples(x,cluster_labels)"
   ]
  },
  {
   "cell_type": "markdown",
   "metadata": {},
   "source": [
    "Evidently, the higest silhouette score is achieved at 2 clusters, which agrees with our value obtained from the Elbow Method. So, we will use 2 clusters for the k-means clustering."
   ]
  },
  {
   "cell_type": "code",
   "execution_count": 6,
   "metadata": {},
   "outputs": [
    {
     "data": {
      "text/html": [
       "<div>\n",
       "<style scoped>\n",
       "    .dataframe tbody tr th:only-of-type {\n",
       "        vertical-align: middle;\n",
       "    }\n",
       "\n",
       "    .dataframe tbody tr th {\n",
       "        vertical-align: top;\n",
       "    }\n",
       "\n",
       "    .dataframe thead th {\n",
       "        text-align: right;\n",
       "    }\n",
       "</style>\n",
       "<table border=\"1\" class=\"dataframe\">\n",
       "  <thead>\n",
       "    <tr style=\"text-align: right;\">\n",
       "      <th></th>\n",
       "      <th>0</th>\n",
       "      <th>1</th>\n",
       "    </tr>\n",
       "  </thead>\n",
       "  <tbody>\n",
       "    <tr>\n",
       "      <td>cluster</td>\n",
       "      <td>1.00</td>\n",
       "      <td>2.00</td>\n",
       "    </tr>\n",
       "    <tr>\n",
       "      <td>prct_rpt_crime</td>\n",
       "      <td>10.08</td>\n",
       "      <td>12.72</td>\n",
       "    </tr>\n",
       "    <tr>\n",
       "      <td>prct_rpt_pollution</td>\n",
       "      <td>12.66</td>\n",
       "      <td>13.82</td>\n",
       "    </tr>\n",
       "    <tr>\n",
       "      <td>legal_trust_rating</td>\n",
       "      <td>5.07</td>\n",
       "      <td>4.37</td>\n",
       "    </tr>\n",
       "    <tr>\n",
       "      <td>police_trust_rating</td>\n",
       "      <td>6.18</td>\n",
       "      <td>5.80</td>\n",
       "    </tr>\n",
       "    <tr>\n",
       "      <td>political_trust_rating</td>\n",
       "      <td>4.21</td>\n",
       "      <td>3.20</td>\n",
       "    </tr>\n",
       "    <tr>\n",
       "      <td>gdp</td>\n",
       "      <td>218148.08</td>\n",
       "      <td>1837802.52</td>\n",
       "    </tr>\n",
       "    <tr>\n",
       "      <td>prct_health_verygood</td>\n",
       "      <td>23.96</td>\n",
       "      <td>18.78</td>\n",
       "    </tr>\n",
       "    <tr>\n",
       "      <td>prct_health_good</td>\n",
       "      <td>43.40</td>\n",
       "      <td>48.30</td>\n",
       "    </tr>\n",
       "    <tr>\n",
       "      <td>prct_health_fair</td>\n",
       "      <td>23.11</td>\n",
       "      <td>24.00</td>\n",
       "    </tr>\n",
       "    <tr>\n",
       "      <td>prct_health_bad</td>\n",
       "      <td>7.65</td>\n",
       "      <td>7.30</td>\n",
       "    </tr>\n",
       "    <tr>\n",
       "      <td>prct_health_verybad</td>\n",
       "      <td>1.84</td>\n",
       "      <td>1.62</td>\n",
       "    </tr>\n",
       "    <tr>\n",
       "      <td>total_pop</td>\n",
       "      <td>6592549.31</td>\n",
       "      <td>58771582.33</td>\n",
       "    </tr>\n",
       "    <tr>\n",
       "      <td>prct_yng_adt_pop</td>\n",
       "      <td>19.31</td>\n",
       "      <td>18.27</td>\n",
       "    </tr>\n",
       "  </tbody>\n",
       "</table>\n",
       "</div>"
      ],
      "text/plain": [
       "                                 0            1\n",
       "cluster                       1.00         2.00\n",
       "prct_rpt_crime               10.08        12.72\n",
       "prct_rpt_pollution           12.66        13.82\n",
       "legal_trust_rating            5.07         4.37\n",
       "police_trust_rating           6.18         5.80\n",
       "political_trust_rating        4.21         3.20\n",
       "gdp                      218148.08   1837802.52\n",
       "prct_health_verygood         23.96        18.78\n",
       "prct_health_good             43.40        48.30\n",
       "prct_health_fair             23.11        24.00\n",
       "prct_health_bad               7.65         7.30\n",
       "prct_health_verybad           1.84         1.62\n",
       "total_pop               6592549.31  58771582.33\n",
       "prct_yng_adt_pop             19.31        18.27"
      ]
     },
     "execution_count": 6,
     "metadata": {},
     "output_type": "execute_result"
    }
   ],
   "source": [
    "# Fit with k-means clustering\n",
    "kmeans=KMeans(n_clusters=2)\n",
    "kmeans=kmeans.fit(x)\n",
    "\n",
    "col=list(x.columns.values) # original variables\n",
    "count=data.iloc[:,0] # original countries\n",
    "\n",
    "ctr=kmeans.cluster_centers_ # cluster coordinates\n",
    "count_label=kmeans.labels_+1 # assign cluster numbers as cluster 1 and 2 for intuition\n",
    "\n",
    "# Show results\n",
    "ctr=pd.DataFrame(ctr,columns=col)\n",
    "ctr.insert(0,\"cluster\",[1,2]) # label countries\n",
    "(ctr.T).round(2)"
   ]
  },
  {
   "cell_type": "markdown",
   "metadata": {},
   "source": [
    "We compare the characteristics of cluster 1 and cluster 2. \n",
    "Notice that cluster 1 pertains to a lower reported crime rate (inferred as % criminal incidents/population), lower reported pollution, as well as stronger trust in the legal, police, and political systems. They also have overall more people in better health and greater percentage of younger adults. \n",
    "\n",
    "However, countries falling in cluster 2 have a better GDP and higher population. It is notable that the actual difference in the centroids (centers) of the 2 clusters is not that large. Variables such as the crime rate in cluster 2 is only a few percent below cluster 1."
   ]
  },
  {
   "cell_type": "code",
   "execution_count": 7,
   "metadata": {},
   "outputs": [
    {
     "data": {
      "text/html": [
       "<div>\n",
       "<style scoped>\n",
       "    .dataframe tbody tr th:only-of-type {\n",
       "        vertical-align: middle;\n",
       "    }\n",
       "\n",
       "    .dataframe tbody tr th {\n",
       "        vertical-align: top;\n",
       "    }\n",
       "\n",
       "    .dataframe thead th {\n",
       "        text-align: right;\n",
       "    }\n",
       "</style>\n",
       "<table border=\"1\" class=\"dataframe\">\n",
       "  <thead>\n",
       "    <tr style=\"text-align: right;\">\n",
       "      <th></th>\n",
       "      <th>country</th>\n",
       "      <th>cluster</th>\n",
       "    </tr>\n",
       "  </thead>\n",
       "  <tbody>\n",
       "    <tr>\n",
       "      <td>0</td>\n",
       "      <td>Austria</td>\n",
       "      <td>1</td>\n",
       "    </tr>\n",
       "    <tr>\n",
       "      <td>1</td>\n",
       "      <td>Belgium</td>\n",
       "      <td>1</td>\n",
       "    </tr>\n",
       "    <tr>\n",
       "      <td>2</td>\n",
       "      <td>Bulgaria</td>\n",
       "      <td>1</td>\n",
       "    </tr>\n",
       "    <tr>\n",
       "      <td>3</td>\n",
       "      <td>Switzerland</td>\n",
       "      <td>1</td>\n",
       "    </tr>\n",
       "    <tr>\n",
       "      <td>4</td>\n",
       "      <td>Cyprus</td>\n",
       "      <td>1</td>\n",
       "    </tr>\n",
       "    <tr>\n",
       "      <td>5</td>\n",
       "      <td>Czechia</td>\n",
       "      <td>1</td>\n",
       "    </tr>\n",
       "    <tr>\n",
       "      <td>6</td>\n",
       "      <td>Germany</td>\n",
       "      <td>2</td>\n",
       "    </tr>\n",
       "    <tr>\n",
       "      <td>7</td>\n",
       "      <td>Denmark</td>\n",
       "      <td>1</td>\n",
       "    </tr>\n",
       "    <tr>\n",
       "      <td>8</td>\n",
       "      <td>Estonia</td>\n",
       "      <td>1</td>\n",
       "    </tr>\n",
       "    <tr>\n",
       "      <td>9</td>\n",
       "      <td>Greece</td>\n",
       "      <td>1</td>\n",
       "    </tr>\n",
       "    <tr>\n",
       "      <td>10</td>\n",
       "      <td>Spain</td>\n",
       "      <td>2</td>\n",
       "    </tr>\n",
       "    <tr>\n",
       "      <td>11</td>\n",
       "      <td>Finland</td>\n",
       "      <td>1</td>\n",
       "    </tr>\n",
       "    <tr>\n",
       "      <td>12</td>\n",
       "      <td>France</td>\n",
       "      <td>2</td>\n",
       "    </tr>\n",
       "    <tr>\n",
       "      <td>13</td>\n",
       "      <td>Croatia</td>\n",
       "      <td>1</td>\n",
       "    </tr>\n",
       "    <tr>\n",
       "      <td>14</td>\n",
       "      <td>Hungary</td>\n",
       "      <td>1</td>\n",
       "    </tr>\n",
       "    <tr>\n",
       "      <td>15</td>\n",
       "      <td>Ireland</td>\n",
       "      <td>1</td>\n",
       "    </tr>\n",
       "    <tr>\n",
       "      <td>16</td>\n",
       "      <td>Iceland</td>\n",
       "      <td>1</td>\n",
       "    </tr>\n",
       "    <tr>\n",
       "      <td>17</td>\n",
       "      <td>Italy</td>\n",
       "      <td>2</td>\n",
       "    </tr>\n",
       "    <tr>\n",
       "      <td>18</td>\n",
       "      <td>Lithuania</td>\n",
       "      <td>1</td>\n",
       "    </tr>\n",
       "    <tr>\n",
       "      <td>19</td>\n",
       "      <td>Luxembourg</td>\n",
       "      <td>1</td>\n",
       "    </tr>\n",
       "    <tr>\n",
       "      <td>20</td>\n",
       "      <td>Latvia</td>\n",
       "      <td>1</td>\n",
       "    </tr>\n",
       "    <tr>\n",
       "      <td>21</td>\n",
       "      <td>Malta</td>\n",
       "      <td>1</td>\n",
       "    </tr>\n",
       "    <tr>\n",
       "      <td>22</td>\n",
       "      <td>Netherlands</td>\n",
       "      <td>1</td>\n",
       "    </tr>\n",
       "    <tr>\n",
       "      <td>23</td>\n",
       "      <td>Norway</td>\n",
       "      <td>1</td>\n",
       "    </tr>\n",
       "    <tr>\n",
       "      <td>24</td>\n",
       "      <td>Poland</td>\n",
       "      <td>2</td>\n",
       "    </tr>\n",
       "    <tr>\n",
       "      <td>25</td>\n",
       "      <td>Portugal</td>\n",
       "      <td>1</td>\n",
       "    </tr>\n",
       "    <tr>\n",
       "      <td>26</td>\n",
       "      <td>Romania</td>\n",
       "      <td>1</td>\n",
       "    </tr>\n",
       "    <tr>\n",
       "      <td>27</td>\n",
       "      <td>Sweden</td>\n",
       "      <td>1</td>\n",
       "    </tr>\n",
       "    <tr>\n",
       "      <td>28</td>\n",
       "      <td>Slovenia</td>\n",
       "      <td>1</td>\n",
       "    </tr>\n",
       "    <tr>\n",
       "      <td>29</td>\n",
       "      <td>Slovakia</td>\n",
       "      <td>1</td>\n",
       "    </tr>\n",
       "    <tr>\n",
       "      <td>30</td>\n",
       "      <td>Turkey</td>\n",
       "      <td>1</td>\n",
       "    </tr>\n",
       "    <tr>\n",
       "      <td>31</td>\n",
       "      <td>United Kingdom</td>\n",
       "      <td>2</td>\n",
       "    </tr>\n",
       "  </tbody>\n",
       "</table>\n",
       "</div>"
      ],
      "text/plain": [
       "           country  cluster\n",
       "0          Austria        1\n",
       "1          Belgium        1\n",
       "2         Bulgaria        1\n",
       "3      Switzerland        1\n",
       "4           Cyprus        1\n",
       "5          Czechia        1\n",
       "6          Germany        2\n",
       "7          Denmark        1\n",
       "8          Estonia        1\n",
       "9           Greece        1\n",
       "10           Spain        2\n",
       "11         Finland        1\n",
       "12          France        2\n",
       "13         Croatia        1\n",
       "14         Hungary        1\n",
       "15         Ireland        1\n",
       "16         Iceland        1\n",
       "17           Italy        2\n",
       "18       Lithuania        1\n",
       "19      Luxembourg        1\n",
       "20          Latvia        1\n",
       "21           Malta        1\n",
       "22     Netherlands        1\n",
       "23          Norway        1\n",
       "24          Poland        2\n",
       "25        Portugal        1\n",
       "26         Romania        1\n",
       "27          Sweden        1\n",
       "28        Slovenia        1\n",
       "29        Slovakia        1\n",
       "30          Turkey        1\n",
       "31  United Kingdom        2"
      ]
     },
     "execution_count": 7,
     "metadata": {},
     "output_type": "execute_result"
    }
   ],
   "source": [
    "# show the clustered countries\n",
    "ctry_sum={'country': count,\n",
    "          'cluster': count_label} \n",
    "ctry_sum=pd.DataFrame(ctry_sum,columns=['country','cluster'])\n",
    "ctry_sum"
   ]
  },
  {
   "cell_type": "markdown",
   "metadata": {},
   "source": [
    "We find that Germany, Spain, France, Italy, Poland, and the UK fall under cluster 2, which suggests that perhaps we could be more alert towards aspects like crime when travelling to these countries."
   ]
  },
  {
   "cell_type": "markdown",
   "metadata": {},
   "source": [
    "Let's visualize the results by plotting the clustered data points."
   ]
  },
  {
   "cell_type": "code",
   "execution_count": 8,
   "metadata": {},
   "outputs": [
    {
     "data": {
      "image/png": "[encoded data removed]",
      "text/plain": [
       "<Figure size 432x288 with 1 Axes>"
      ]
     },
     "metadata": {
      "needs_background": "light"
     },
     "output_type": "display_data"
    }
   ],
   "source": [
    "result = pd.concat([ctry_sum.reset_index(drop=True), x], axis=1) # original data and cluster results\n",
    "cluster_1=result[result.cluster==1]\n",
    "cluster_2=result[result.cluster==2]\n",
    "plt.scatter(cluster_1.iloc[:,2],cluster_1.iloc[:,14],c=\"green\",label=\"Cluster 1\")\n",
    "plt.scatter(cluster_2.iloc[:,2],cluster_2.iloc[:,14],c=\"red\",label=\"Cluster 2\")\n",
    "plt.xlabel('% Reported Crime')\n",
    "plt.ylabel('% Young Adult Pop')\n",
    "plt.title('% Reported Crime vs. % Young Adult Pop')\n",
    "plt.legend()\n",
    "plt.show()"
   ]
  },
  {
   "cell_type": "markdown",
   "metadata": {},
   "source": [
    "Our original comparison led us to infer that crime tends to be higher in cluster 2. However, this observation is not always the case as the clustering seems to overlap in some areas, which is not necessarily ideal. Notably, Bulgaria falls into cluster 1 despite having the highest crime rate of 25%. As mentioned earlier, the difference in crime rates between the two clusters is small (<3%), hence this is to be expected."
   ]
  },
  {
   "cell_type": "code",
   "execution_count": 9,
   "metadata": {},
   "outputs": [
    {
     "data": {
      "image/png": "[encoded data removed]",
      "text/plain": [
       "<Figure size 432x288 with 1 Axes>"
      ]
     },
     "metadata": {
      "needs_background": "light"
     },
     "output_type": "display_data"
    }
   ],
   "source": [
    "plt.scatter(cluster_1.iloc[:,12],cluster_1.iloc[:,13],c=\"green\",label=\"Cluster 1\")\n",
    "plt.scatter(cluster_2.iloc[:,12],cluster_2.iloc[:,13],c=\"red\",label=\"Cluster 2\")\n",
    "plt.xlabel('% Pop in Very Bad Health')\n",
    "plt.ylabel('Pop (10s of millions)')\n",
    "plt.title('% Pop in Very Bad Health vs. Pop (10 millions)')\n",
    "plt.legend()\n",
    "plt.show()"
   ]
  },
  {
   "cell_type": "markdown",
   "metadata": {},
   "source": [
    "We see two distinct groups, which is good to see here. From our comparisons between Cluster 1 and 2 this is understandable as there is a large difference in population between the two clusters. We see countries in cluster 2 have a much higher population (but also greater variation in population) than cluster 1."
   ]
  },
  {
   "cell_type": "code",
   "execution_count": 10,
   "metadata": {},
   "outputs": [
    {
     "data": {
      "image/png": "[encoded data removed]",
      "text/plain": [
       "<Figure size 432x288 with 1 Axes>"
      ]
     },
     "metadata": {
      "needs_background": "light"
     },
     "output_type": "display_data"
    }
   ],
   "source": [
    "plt.scatter(cluster_1.iloc[:,3],cluster_1.iloc[:,7],c=\"green\",label=\"Cluster 1\")\n",
    "plt.scatter(cluster_2.iloc[:,3],cluster_2.iloc[:,7],c=\"red\",label=\"Cluster 2\")\n",
    "plt.xlabel('% Pollution')\n",
    "plt.ylabel('GDP')\n",
    "plt.title('% Pollution vs. GDP')\n",
    "plt.legend()\n",
    "plt.show()"
   ]
  },
  {
   "cell_type": "markdown",
   "metadata": {},
   "source": [
    "A bit of overlap here, although still relatively distanced since GDP of Cluster 2 on average is greater than Cluster 1."
   ]
  },
  {
   "cell_type": "markdown",
   "metadata": {},
   "source": [
    "In terms of relevance, the difference in clusters are more distinct for some variables than others - besides GDP or population, the actual differences in countries is quite marginal. We see minor differences between clusters in metrics such as reported crime but larger differences when we look at population. Thus, these groupings should not discourage travelling to certain European countries, but rather to gain an understanding of different countries' characteristics. There are also other factors such as new events that may occur and shape these measurements differently over time, as well as immigration/visitation laws that might deter tourists from visiting certain coutnries."
   ]
  },
  {
   "cell_type": "markdown",
   "metadata": {},
   "source": [
    "Thanks for reading! Please let me know if you have any comments or suggestions."
   ]
  }
 ],
 "metadata": {
  "kernelspec": {
   "display_name": "Python 3",
   "language": "python",
   "name": "python3"
  },
  "language_info": {
   "codemirror_mode": {
    "name": "ipython",
    "version": 3
   },
   "file_extension": ".py",
   "mimetype": "text/x-python",
   "name": "python",
   "nbconvert_exporter": "python",
   "pygments_lexer": "ipython3",
   "version": "3.6.6"
  }
 },
 "nbformat": 4,
 "nbformat_minor": 1
}
